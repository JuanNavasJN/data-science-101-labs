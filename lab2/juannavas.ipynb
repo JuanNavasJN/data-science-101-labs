{
  "nbformat": 4,
  "nbformat_minor": 0,
  "metadata": {
    "colab": {
      "name": "Asignacion.ipynb",
      "provenance": [],
      "toc_visible": true
    },
    "kernelspec": {
      "name": "python3",
      "display_name": "Python 3"
    }
  },
  "cells": [
    {
      "cell_type": "markdown",
      "metadata": {
        "id": "1LYkDM5K7ka8",
        "colab_type": "text"
      },
      "source": [
        "## imageio\n",
        "\n",
        "Imageio es una librería de Python que proporciona una interfaz fácil para leer y escribir una amplia gama de datos de imágenes, incluidas imágenes animadas, datos volumétricos y formatos científicos. Es multiplataforma, se ejecuta en Python 3.5+ y es fácil de instalar."
      ]
    },
    {
      "cell_type": "markdown",
      "metadata": {
        "id": "yoaCc6F-BrJ5",
        "colab_type": "text"
      },
      "source": [
        "## scikit-image\n",
        "Procesamiento de imágenes SciKit\n",
        "\n",
        "Algoritmos de procesamiento de imágenes para SciPy, que incluyen IO, morfología, filtrado, deformación, manipulación de color, detección de objetos, etc."
      ]
    },
    {
      "cell_type": "markdown",
      "metadata": {
        "id": "VYDVlTWY7XAE",
        "colab_type": "text"
      },
      "source": [
        "#### Instalar librerias"
      ]
    },
    {
      "cell_type": "code",
      "metadata": {
        "id": "N16FpvjI6uuY",
        "colab_type": "code",
        "colab": {}
      },
      "source": [
        "pip install imageio"
      ],
      "execution_count": 0,
      "outputs": []
    },
    {
      "cell_type": "code",
      "metadata": {
        "id": "ZTtQQ7g19nno",
        "colab_type": "code",
        "colab": {}
      },
      "source": [
        "pip install scikit-image"
      ],
      "execution_count": 0,
      "outputs": []
    },
    {
      "cell_type": "markdown",
      "metadata": {
        "id": "JkqZVeSn7z3z",
        "colab_type": "text"
      },
      "source": [
        "#### Importar librerias"
      ]
    },
    {
      "cell_type": "code",
      "metadata": {
        "id": "MrWwYFyN6SF7",
        "colab_type": "code",
        "colab": {}
      },
      "source": [
        "  \n",
        "from imageio import imread, imwrite\n",
        "from skimage.transform import resize"
      ],
      "execution_count": 0,
      "outputs": []
    },
    {
      "cell_type": "markdown",
      "metadata": {
        "id": "Efk3a3dKH2ri",
        "colab_type": "text"
      },
      "source": [
        "La función **imread** de la librería **imageio** lee la imagen de la ruta pasada por parámetro. Luego, cargamos la imagen en la variable **img**, que es una matriz de pixeles."
      ]
    },
    {
      "cell_type": "code",
      "metadata": {
        "id": "NpZdFnPF6XM4",
        "colab_type": "code",
        "colab": {}
      },
      "source": [
        "img = imread('./cat.jpg')"
      ],
      "execution_count": 0,
      "outputs": []
    },
    {
      "cell_type": "markdown",
      "metadata": {
        "id": "iOVMgxFeIhM9",
        "colab_type": "text"
      },
      "source": [
        "podemos cambiar los colores de la imagen multiplicando cada pixel por un vector de tres posiciones, donde cada posición representa una proporción para cada color RGB."
      ]
    },
    {
      "cell_type": "code",
      "metadata": {
        "id": "gqNktSFb9NQh",
        "colab_type": "code",
        "colab": {}
      },
      "source": [
        "img_tint = img * [1, 0.45, 0.3] "
      ],
      "execution_count": 0,
      "outputs": []
    },
    {
      "cell_type": "code",
      "metadata": {
        "id": "R6DukAWz-AZL",
        "colab_type": "code",
        "colab": {
          "base_uri": "https://localhost:8080/",
          "height": 54
        },
        "outputId": "fd7b9c73-b0de-4fa9-8456-3d7b322e72ef"
      },
      "source": [
        "# Guardamos la imagen pintada\n",
        "imwrite('./cat_tinted.jpg', img_tint) "
      ],
      "execution_count": 43,
      "outputs": [
        {
          "output_type": "stream",
          "text": [
            "WARNING:root:Lossy conversion from float64 to uint8. Range [0.0, 255.0]. Convert image to uint8 prior to saving to suppress this warning.\n"
          ],
          "name": "stderr"
        }
      ]
    },
    {
      "cell_type": "markdown",
      "metadata": {
        "id": "E_CoWntsJfA-",
        "colab_type": "text"
      },
      "source": [
        "La librería **scikit-image** tiene una función llamada **resize** que permite cambiar el tamaño de imágenes. Por ejemplo:"
      ]
    },
    {
      "cell_type": "code",
      "metadata": {
        "id": "7MuwA2tR-H7o",
        "colab_type": "code",
        "colab": {}
      },
      "source": [
        "# Cambiamos el tamaño a 50 x 50 pixeles\n",
        "img_tint_resize = resize(img_tint, (50, 50))"
      ],
      "execution_count": 0,
      "outputs": []
    },
    {
      "cell_type": "markdown",
      "metadata": {
        "id": "7ymgETBNKKwJ",
        "colab_type": "text"
      },
      "source": [
        "Luego, guardamos la imagen con el tamaño cambiado utilizando la función **imwrite** de la librería **imageio**:"
      ]
    },
    {
      "cell_type": "code",
      "metadata": {
        "id": "c4Waetk-_3Q9",
        "colab_type": "code",
        "colab": {
          "base_uri": "https://localhost:8080/",
          "height": 54
        },
        "outputId": "be050a89-1bf9-4bb7-a073-e057f1f5e32a"
      },
      "source": [
        "imwrite('./cat_tinted_resized.jpg', img_tint_resize) "
      ],
      "execution_count": 48,
      "outputs": [
        {
          "output_type": "stream",
          "text": [
            "WARNING:root:Lossy conversion from float64 to uint8. Range [1.4344890984632266, 126.2751385221481]. Convert image to uint8 prior to saving to suppress this warning.\n"
          ],
          "name": "stderr"
        }
      ]
    }
  ]
}